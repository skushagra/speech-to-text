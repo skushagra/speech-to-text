{
 "cells": [
  {
   "cell_type": "code",
   "execution_count": 55,
   "id": "cdbc069b",
   "metadata": {},
   "outputs": [],
   "source": [
    "import numpy as np\n",
    "# Importing standard libraries\n",
    "import matplotlib.pyplot as plt\n",
    "from ibm_watson import SpeechToTextV1\n",
    "import os"
   ]
  },
  {
   "cell_type": "code",
   "execution_count": 56,
   "id": "6eb1859c",
   "metadata": {},
   "outputs": [],
   "source": [
    "from ibm_watson import SpeechToTextV1\n",
    "from ibm_cloud_sdk_core.authenticators import IAMAuthenticator"
   ]
  },
  {
   "cell_type": "code",
   "execution_count": 57,
   "id": "95190b4f",
   "metadata": {},
   "outputs": [],
   "source": [
    "IBM_TEXT_TO_SPEECH_API_KEY = os.enviorn.get('IBM_TEXT_TO_SPEECH_API_KEY')\n",
    "IBM_TEXT_TO_SPEECH_URL = os.enviorn.get('IBM_TEXT_TO_SPEECH_URL')\n",
    "api_key = IAMAuthenticator(IBM_TEXT_TO_SPEECH_API_KEY)\n",
    "s2t = SpeechToTextV1(authenticator=api_key)"
   ]
  },
  {
   "cell_type": "code",
   "execution_count": 58,
   "id": "5225964f",
   "metadata": {},
   "outputs": [],
   "source": [
    "s2t.set_service_url(IBM_TEXT_TO_SPEECH_URL)"
   ]
  },
  {
   "cell_type": "code",
   "execution_count": 59,
   "id": "83e54b90",
   "metadata": {},
   "outputs": [],
   "source": [
    "with open(\"myaudio.mp3\", 'rb') as audio_file:\n",
    "    result = s2t.recognize(\n",
    "        audio=audio_file, content_type='audio/mp3'\n",
    "    ).get_result()"
   ]
  },
  {
   "cell_type": "code",
   "execution_count": 60,
   "id": "4647cf40",
   "metadata": {},
   "outputs": [],
   "source": [
    "text = (result['results'])[0]['alternatives'][0]['transcript']\n",
    "confidence = (result['results'])[0]['alternatives'][0]['confidence']"
   ]
  },
  {
   "cell_type": "code",
   "execution_count": 61,
   "id": "f2b4ac5e",
   "metadata": {},
   "outputs": [
    {
     "name": "stdout",
     "output_type": "stream",
     "text": [
      "Text obtained :- this text was recovered from an audio file \n",
      "Confidence :- 0.76\n"
     ]
    }
   ],
   "source": [
    "print(f'Text obtained :- {text}')\n",
    "print(f'Confidence :- {confidence}')"
   ]
  },
  {
   "cell_type": "code",
   "execution_count": null,
   "id": "397aff5a",
   "metadata": {},
   "outputs": [],
   "source": []
  }
 ],
 "metadata": {
  "kernelspec": {
   "display_name": "Python 3",
   "language": "python",
   "name": "python3"
  },
  "language_info": {
   "codemirror_mode": {
    "name": "ipython",
    "version": 3
   },
   "file_extension": ".py",
   "mimetype": "text/x-python",
   "name": "python",
   "nbconvert_exporter": "python",
   "pygments_lexer": "ipython3",
   "version": "3.8.10"
  }
 },
 "nbformat": 4,
 "nbformat_minor": 5
}
